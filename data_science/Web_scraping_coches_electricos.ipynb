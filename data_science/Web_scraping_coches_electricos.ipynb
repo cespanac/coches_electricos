{
 "cells": [
  {
   "cell_type": "markdown",
   "metadata": {},
   "source": [
    "# Web scraping Modelos coches"
   ]
  },
  {
   "cell_type": "markdown",
   "metadata": {},
   "source": [
    "### Importar Pandas y activar el Chrome Driver"
   ]
  },
  {
   "cell_type": "code",
   "execution_count": 1,
   "metadata": {
    "ExecuteTime": {
     "end_time": "2021-05-01T09:23:08.393534Z",
     "start_time": "2021-05-01T09:23:07.853020Z"
    }
   },
   "outputs": [],
   "source": [
    "import pandas as pd\n",
    "\n",
    "from selenium import webdriver\n",
    "\n",
    "from selenium.webdriver.common.keys import Keys\n",
    "\n",
    "from selenium.webdriver.common.action_chains import ActionChains\n",
    "\n",
    "import time"
   ]
  },
  {
   "cell_type": "markdown",
   "metadata": {},
   "source": [
    "### Tratamiento de coches eléctricos con tipo de cargador Type 2"
   ]
  },
  {
   "cell_type": "markdown",
   "metadata": {},
   "source": [
    "***Para usar el chrome driver hay que descargarlo y cambiar la ruta.***"
   ]
  },
  {
   "cell_type": "code",
   "execution_count": 2,
   "metadata": {
    "ExecuteTime": {
     "end_time": "2021-05-01T09:23:51.732039Z",
     "start_time": "2021-05-01T09:23:49.653764Z"
    }
   },
   "outputs": [],
   "source": [
    "chrome_driver = r\"C:\\\\Users\\\\SoniMik\\\\Desktop\\\\chromedriver_win32\\\\chromedriver.exe\"\n",
    "\n",
    "options = webdriver.ChromeOptions()\n",
    "\n",
    "driver = webdriver.Chrome(executable_path = chrome_driver, options = options)"
   ]
  },
  {
   "cell_type": "markdown",
   "metadata": {},
   "source": [
    "***Entramos en la página***"
   ]
  },
  {
   "cell_type": "code",
   "execution_count": 3,
   "metadata": {
    "ExecuteTime": {
     "end_time": "2021-05-01T09:51:25.795114Z",
     "start_time": "2021-05-01T09:51:24.189160Z"
    }
   },
   "outputs": [],
   "source": [
    "#Entramos en la página ya filtrada por tipo de cargador Type 2 (10 coches)\n",
    "\n",
    "driver.get('https://ev-database.org/#sort:path~type~order=.rank~number~desc|plug-cb-dd:pathGroup=.plug-type2|range-slider-range:prev~next=0~1200|range-slider-acceleration:prev~next=2~23|range-slider-topspeed:prev~next=110~450|range-slider-battery:prev~next=10~200|range-slider-eff:prev~next=100~300|range-slider-fastcharge:prev~next=0~1500|paging:currentPage=0|paging:number=all')"
   ]
  },
  {
   "cell_type": "markdown",
   "metadata": {},
   "source": [
    "#### Recogemos información"
   ]
  },
  {
   "cell_type": "code",
   "execution_count": 4,
   "metadata": {},
   "outputs": [],
   "source": [
    "#Definimos las listas lista_marca, lista_modelo y lista_carga vacías para ir añadiendo la información \n",
    "lista_marca = []\n",
    "lista_modelo = []\n",
    "lista_cargador = []\n",
    "\n",
    "'''\n",
    "Función que recoge la marca, el modelo y el tipo de cargador de un coche eléctrico\n",
    "\n",
    "Parámetros:\n",
    "    input: tipo de cargador (string)\n",
    "\n",
    "'''\n",
    "def marca_modelo_cargador(cargador):\n",
    "    \n",
    "    marca_modelo = driver.find_elements_by_tag_name('h2') #nos situamos en la marca y modelo\n",
    "    \n",
    "    for i in marca_modelo:\n",
    "        lista_marca.append(i.text.split(maxsplit = 1)[0])\n",
    "        lista_modelo.append(i.text.split(maxsplit = 1)[1])\n",
    "        lista_cargador.append(cargador)\n",
    "\n",
    "        \n",
    "#Se llama a la función marca_modelo_cargador pasándole el parámetro tipo de cargador igual a Type 2\n",
    "marca_modelo_cargador(\"Type 2\")        "
   ]
  },
  {
   "cell_type": "code",
   "execution_count": 5,
   "metadata": {},
   "outputs": [],
   "source": [
    "#Definimos la lista lista_battery vacía para ir añadiendo la información \n",
    "lista_battery = []\n",
    "\n",
    "'''\n",
    "Función que recoge la capacidad de la batería eléctrica de un coche eléctrico\n",
    "\n",
    "'''\n",
    "def capacidad_bateria():\n",
    "    \n",
    "    battery = driver.find_elements_by_class_name('battery') #nos situamos en la capacidad de la betería eléctrica\n",
    "    \n",
    "    for i in battery:\n",
    "        lista_battery.append(i.text)\n",
    "\n",
    "#Se llama a la función capacidad_bateria\n",
    "capacidad_bateria()        "
   ]
  },
  {
   "cell_type": "code",
   "execution_count": 6,
   "metadata": {},
   "outputs": [],
   "source": [
    "#Quitamos el navegador\n",
    "driver.quit()"
   ]
  },
  {
   "cell_type": "markdown",
   "metadata": {},
   "source": [
    "### Tratamiento de coches eléctricos con tipo de cargador Type 1 CHAdeMO"
   ]
  },
  {
   "cell_type": "markdown",
   "metadata": {},
   "source": [
    "***Para usar el chrome driver hay que descargarlo y cambiar la ruta.***"
   ]
  },
  {
   "cell_type": "code",
   "execution_count": 7,
   "metadata": {},
   "outputs": [],
   "source": [
    "chrome_driver = r\"C:\\\\Users\\\\SoniMik\\\\Desktop\\\\chromedriver_win32\\\\chromedriver.exe\"\n",
    "\n",
    "options = webdriver.ChromeOptions()\n",
    "\n",
    "driver = webdriver.Chrome(executable_path = chrome_driver, options = options)"
   ]
  },
  {
   "cell_type": "markdown",
   "metadata": {},
   "source": [
    "***Entramos en la página***"
   ]
  },
  {
   "cell_type": "code",
   "execution_count": 8,
   "metadata": {},
   "outputs": [],
   "source": [
    "#Entramos en la página ya filtrada por tipo de cargador Type 1 CHAdeMO (1 coche)\n",
    "\n",
    "driver.get('https://ev-database.org/#sort:path~type~order=.rank~number~desc|plug-cb-dd:pathGroup=.plug-type1-cdm|range-slider-range:prev~next=0~1200|range-slider-acceleration:prev~next=2~23|range-slider-topspeed:prev~next=110~450|range-slider-battery:prev~next=10~200|range-slider-eff:prev~next=100~300|range-slider-fastcharge:prev~next=0~1500|paging:currentPage=0|paging:number=9')"
   ]
  },
  {
   "cell_type": "markdown",
   "metadata": {},
   "source": [
    "#### Recogemos información"
   ]
  },
  {
   "cell_type": "code",
   "execution_count": 9,
   "metadata": {},
   "outputs": [],
   "source": [
    "#Se llama a la función marca_modelo_cargador pasándole el parámetro tipo de cargador igual a Type 1 CHAdeMO\n",
    "marca_modelo_cargador(\"Type 1 CHAdeMO\")    "
   ]
  },
  {
   "cell_type": "code",
   "execution_count": 10,
   "metadata": {},
   "outputs": [],
   "source": [
    "#Se llama a la función capacidad_bateria\n",
    "capacidad_bateria() "
   ]
  },
  {
   "cell_type": "code",
   "execution_count": 11,
   "metadata": {},
   "outputs": [],
   "source": [
    "#Quitamos el navegador\n",
    "driver.quit()"
   ]
  },
  {
   "cell_type": "markdown",
   "metadata": {},
   "source": [
    "### Tratamiento de coches eléctricos con tipo de cargador Type 2 CHAdeMO"
   ]
  },
  {
   "cell_type": "markdown",
   "metadata": {},
   "source": [
    "***Para usar el chrome driver hay que descargarlo y cambiar la ruta.***"
   ]
  },
  {
   "cell_type": "code",
   "execution_count": 12,
   "metadata": {},
   "outputs": [],
   "source": [
    "chrome_driver = r\"C:\\\\Users\\\\SoniMik\\\\Desktop\\\\chromedriver_win32\\\\chromedriver.exe\"\n",
    "\n",
    "options = webdriver.ChromeOptions()\n",
    "\n",
    "driver = webdriver.Chrome(executable_path = chrome_driver, options = options)"
   ]
  },
  {
   "cell_type": "markdown",
   "metadata": {},
   "source": [
    "***Entramos en la página***"
   ]
  },
  {
   "cell_type": "code",
   "execution_count": 13,
   "metadata": {},
   "outputs": [],
   "source": [
    "#Entramos en la página ya filtrada por tipo de cargador Type 2 CHAdeMO (3 coches)\n",
    "\n",
    "driver.get('https://ev-database.org/#sort:path~type~order=.rank~number~desc|plug-cb-dd:pathGroup=.plug-type2-cdm|range-slider-range:prev~next=0~1200|range-slider-acceleration:prev~next=2~23|range-slider-topspeed:prev~next=110~450|range-slider-battery:prev~next=10~200|range-slider-eff:prev~next=100~300|range-slider-fastcharge:prev~next=0~1500|paging:currentPage=0|paging:number=9')"
   ]
  },
  {
   "cell_type": "markdown",
   "metadata": {},
   "source": [
    "#### Recogemos información"
   ]
  },
  {
   "cell_type": "code",
   "execution_count": 14,
   "metadata": {},
   "outputs": [],
   "source": [
    "#Se llama a la función marca_modelo_cargador pasándole el parámetro tipo de cargador igual a Type 2 CHAdeMO\n",
    "marca_modelo_cargador(\"Type 2 CHAdeMO\")  "
   ]
  },
  {
   "cell_type": "code",
   "execution_count": 15,
   "metadata": {},
   "outputs": [],
   "source": [
    "#Se llama a la función capacidad_bateria\n",
    "capacidad_bateria() "
   ]
  },
  {
   "cell_type": "code",
   "execution_count": 16,
   "metadata": {},
   "outputs": [],
   "source": [
    "#Quitamos el navegador\n",
    "driver.quit()"
   ]
  },
  {
   "cell_type": "markdown",
   "metadata": {},
   "source": [
    "### Tratamiento de coches eléctricos con tipo de cargador Type 2 CSS"
   ]
  },
  {
   "cell_type": "markdown",
   "metadata": {},
   "source": [
    "***Para usar el chrome driver hay que descargarlo y cambiar la ruta.***"
   ]
  },
  {
   "cell_type": "code",
   "execution_count": 17,
   "metadata": {},
   "outputs": [],
   "source": [
    "chrome_driver = r\"C:\\\\Users\\\\SoniMik\\\\Desktop\\\\chromedriver_win32\\\\chromedriver.exe\"\n",
    "\n",
    "options = webdriver.ChromeOptions()\n",
    "\n",
    "driver = webdriver.Chrome(executable_path = chrome_driver, options = options)"
   ]
  },
  {
   "cell_type": "markdown",
   "metadata": {},
   "source": [
    "***Entramos en la página***"
   ]
  },
  {
   "cell_type": "code",
   "execution_count": 18,
   "metadata": {},
   "outputs": [],
   "source": [
    "#Entramos en la página ya filtrada por tipo de cargador Type 2 CCS (150 coches)\n",
    "\n",
    "driver.get('https://ev-database.org/#sort:path~type~order=.rank~number~desc|plug-cb-dd:pathGroup=.plug-type2-ccs|range-slider-range:prev~next=0~1200|range-slider-acceleration:prev~next=2~23|range-slider-topspeed:prev~next=110~450|range-slider-battery:prev~next=10~200|range-slider-eff:prev~next=100~300|range-slider-fastcharge:prev~next=0~1500|paging:currentPage=0|paging:number=all')"
   ]
  },
  {
   "cell_type": "markdown",
   "metadata": {},
   "source": [
    "#### Recogemos información"
   ]
  },
  {
   "cell_type": "code",
   "execution_count": 19,
   "metadata": {},
   "outputs": [],
   "source": [
    "#Se llama a la función marca_modelo_cargador pasándole el parámetro tipo de cargador igual a Type 2 CCS\n",
    "marca_modelo_cargador(\"Type 2 CCS\")  "
   ]
  },
  {
   "cell_type": "code",
   "execution_count": 20,
   "metadata": {},
   "outputs": [],
   "source": [
    "#Se llama a la función capacidad_bateria\n",
    "capacidad_bateria() "
   ]
  },
  {
   "cell_type": "code",
   "execution_count": 21,
   "metadata": {},
   "outputs": [],
   "source": [
    "#Quitamos el navegador\n",
    "driver.quit()"
   ]
  },
  {
   "cell_type": "markdown",
   "metadata": {},
   "source": [
    "### Generamos el DataFrame"
   ]
  },
  {
   "cell_type": "code",
   "execution_count": 22,
   "metadata": {},
   "outputs": [
    {
     "data": {
      "text/html": [
       "<div>\n",
       "<style scoped>\n",
       "    .dataframe tbody tr th:only-of-type {\n",
       "        vertical-align: middle;\n",
       "    }\n",
       "\n",
       "    .dataframe tbody tr th {\n",
       "        vertical-align: top;\n",
       "    }\n",
       "\n",
       "    .dataframe thead th {\n",
       "        text-align: right;\n",
       "    }\n",
       "</style>\n",
       "<table border=\"1\" class=\"dataframe\">\n",
       "  <thead>\n",
       "    <tr style=\"text-align: right;\">\n",
       "      <th></th>\n",
       "      <th>marca</th>\n",
       "      <th>modelo</th>\n",
       "      <th>battery</th>\n",
       "      <th>charge_plug</th>\n",
       "    </tr>\n",
       "  </thead>\n",
       "  <tbody>\n",
       "    <tr>\n",
       "      <th>0</th>\n",
       "      <td>Tesla</td>\n",
       "      <td>Model S Plaid</td>\n",
       "      <td>90</td>\n",
       "      <td>Type 2</td>\n",
       "    </tr>\n",
       "    <tr>\n",
       "      <th>1</th>\n",
       "      <td>Renault</td>\n",
       "      <td>Twingo Electric</td>\n",
       "      <td>21.3</td>\n",
       "      <td>Type 2</td>\n",
       "    </tr>\n",
       "    <tr>\n",
       "      <th>2</th>\n",
       "      <td>Tesla</td>\n",
       "      <td>Model S Plaid+</td>\n",
       "      <td>115</td>\n",
       "      <td>Type 2</td>\n",
       "    </tr>\n",
       "    <tr>\n",
       "      <th>3</th>\n",
       "      <td>Tesla</td>\n",
       "      <td>Model S Long Range</td>\n",
       "      <td>90</td>\n",
       "      <td>Type 2</td>\n",
       "    </tr>\n",
       "    <tr>\n",
       "      <th>4</th>\n",
       "      <td>Tesla</td>\n",
       "      <td>Model X Long Range</td>\n",
       "      <td>90</td>\n",
       "      <td>Type 2</td>\n",
       "    </tr>\n",
       "    <tr>\n",
       "      <th>...</th>\n",
       "      <td>...</td>\n",
       "      <td>...</td>\n",
       "      <td>...</td>\n",
       "      <td>...</td>\n",
       "    </tr>\n",
       "    <tr>\n",
       "      <th>159</th>\n",
       "      <td>Citroen</td>\n",
       "      <td>e-SpaceTourer XS 50 kWh</td>\n",
       "      <td>45</td>\n",
       "      <td>Type 2 CCS</td>\n",
       "    </tr>\n",
       "    <tr>\n",
       "      <th>160</th>\n",
       "      <td>Opel</td>\n",
       "      <td>Zafira-e Life M 50 kWh</td>\n",
       "      <td>45</td>\n",
       "      <td>Type 2 CCS</td>\n",
       "    </tr>\n",
       "    <tr>\n",
       "      <th>161</th>\n",
       "      <td>Citroen</td>\n",
       "      <td>e-SpaceTourer XL 50 kWh</td>\n",
       "      <td>45</td>\n",
       "      <td>Type 2 CCS</td>\n",
       "    </tr>\n",
       "    <tr>\n",
       "      <th>162</th>\n",
       "      <td>Opel</td>\n",
       "      <td>Zafira-e Life S 50 kWh</td>\n",
       "      <td>45</td>\n",
       "      <td>Type 2 CCS</td>\n",
       "    </tr>\n",
       "    <tr>\n",
       "      <th>163</th>\n",
       "      <td>Peugeot</td>\n",
       "      <td>e-Traveller Long 50 kWh</td>\n",
       "      <td>45</td>\n",
       "      <td>Type 2 CCS</td>\n",
       "    </tr>\n",
       "  </tbody>\n",
       "</table>\n",
       "<p>164 rows × 4 columns</p>\n",
       "</div>"
      ],
      "text/plain": [
       "       marca                   modelo battery charge_plug\n",
       "0      Tesla            Model S Plaid      90      Type 2\n",
       "1    Renault          Twingo Electric    21.3      Type 2\n",
       "2      Tesla           Model S Plaid+     115      Type 2\n",
       "3      Tesla       Model S Long Range      90      Type 2\n",
       "4      Tesla       Model X Long Range      90      Type 2\n",
       "..       ...                      ...     ...         ...\n",
       "159  Citroen  e-SpaceTourer XS 50 kWh      45  Type 2 CCS\n",
       "160     Opel   Zafira-e Life M 50 kWh      45  Type 2 CCS\n",
       "161  Citroen  e-SpaceTourer XL 50 kWh      45  Type 2 CCS\n",
       "162     Opel   Zafira-e Life S 50 kWh      45  Type 2 CCS\n",
       "163  Peugeot  e-Traveller Long 50 kWh      45  Type 2 CCS\n",
       "\n",
       "[164 rows x 4 columns]"
      ]
     },
     "execution_count": 22,
     "metadata": {},
     "output_type": "execute_result"
    }
   ],
   "source": [
    "df = pd.DataFrame(\n",
    "       {'marca': lista_marca,\n",
    "        'modelo': lista_modelo,\n",
    "        'battery': lista_battery,\n",
    "        'charge_plug': lista_cargador\n",
    "       })\n",
    "\n",
    "df"
   ]
  },
  {
   "cell_type": "markdown",
   "metadata": {},
   "source": [
    "### Generamos el fichero .CSV"
   ]
  },
  {
   "cell_type": "code",
   "execution_count": 23,
   "metadata": {},
   "outputs": [],
   "source": [
    "df.to_csv('coches_electricos.csv')"
   ]
  }
 ],
 "metadata": {
  "hide_input": false,
  "kernelspec": {
   "display_name": "Python 3",
   "language": "python",
   "name": "python3"
  },
  "language_info": {
   "codemirror_mode": {
    "name": "ipython",
    "version": 3
   },
   "file_extension": ".py",
   "mimetype": "text/x-python",
   "name": "python",
   "nbconvert_exporter": "python",
   "pygments_lexer": "ipython3",
   "version": "3.8.5"
  },
  "toc": {
   "base_numbering": 1,
   "nav_menu": {},
   "number_sections": true,
   "sideBar": true,
   "skip_h1_title": false,
   "title_cell": "Table of Contents",
   "title_sidebar": "Contents",
   "toc_cell": false,
   "toc_position": {},
   "toc_section_display": true,
   "toc_window_display": false
  },
  "varInspector": {
   "cols": {
    "lenName": 16,
    "lenType": 16,
    "lenVar": 40
   },
   "kernels_config": {
    "python": {
     "delete_cmd_postfix": "",
     "delete_cmd_prefix": "del ",
     "library": "var_list.py",
     "varRefreshCmd": "print(var_dic_list())"
    },
    "r": {
     "delete_cmd_postfix": ") ",
     "delete_cmd_prefix": "rm(",
     "library": "var_list.r",
     "varRefreshCmd": "cat(var_dic_list()) "
    }
   },
   "types_to_exclude": [
    "module",
    "function",
    "builtin_function_or_method",
    "instance",
    "_Feature"
   ],
   "window_display": false
  }
 },
 "nbformat": 4,
 "nbformat_minor": 4
}
